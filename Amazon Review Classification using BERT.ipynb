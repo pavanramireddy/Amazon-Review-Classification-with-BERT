{
 "cells": [
  {
   "cell_type": "markdown",
   "metadata": {
    "id": "5el_8SqFqVAT"
   },
   "source": [
    "# Amazon Review Classification using BERT"
   ]
  },
  {
   "cell_type": "code",
   "execution_count": 1,
   "metadata": {
    "id": "wOtG4cf0qVAZ"
   },
   "outputs": [],
   "source": [
    "import pickle\n",
    "import numpy as np\n",
    "import pandas as pd\n",
    "import tensorflow as tf\n",
    "import tensorflow_hub as hub\n",
    "from tensorflow.keras.models import Model\n",
    "%load_ext tensorboard"
   ]
  },
  {
   "cell_type": "code",
   "execution_count": 2,
   "metadata": {
    "id": "OcmiHdAJqVAi"
   },
   "outputs": [
    {
     "data": {
      "text/plain": [
       "'/device:GPU:0'"
      ]
     },
     "execution_count": 2,
     "metadata": {},
     "output_type": "execute_result"
    }
   ],
   "source": [
    "tf.test.gpu_device_name()"
   ]
  },
  {
   "cell_type": "code",
   "execution_count": 3,
   "metadata": {},
   "outputs": [],
   "source": [
    "physical_devices = tf.config.list_physical_devices('GPU') \n",
    "tf.config.experimental.set_memory_growth(physical_devices[0], True)"
   ]
  },
  {
   "cell_type": "markdown",
   "metadata": {
    "id": "ZTWRqbrBqVAu"
   },
   "source": [
    "<pre><font size=6>Preprocessing</font></pre>"
   ]
  },
  {
   "cell_type": "code",
   "execution_count": 5,
   "metadata": {
    "id": "B3csZKDrqVAv"
   },
   "outputs": [
    {
     "name": "stdout",
     "output_type": "stream",
     "text": [
      "<class 'pandas.core.frame.DataFrame'>\n",
      "RangeIndex: 568454 entries, 0 to 568453\n",
      "Data columns (total 10 columns):\n",
      " #   Column                  Non-Null Count   Dtype \n",
      "---  ------                  --------------   ----- \n",
      " 0   Id                      568454 non-null  int64 \n",
      " 1   ProductId               568454 non-null  object\n",
      " 2   UserId                  568454 non-null  object\n",
      " 3   ProfileName             568438 non-null  object\n",
      " 4   HelpfulnessNumerator    568454 non-null  int64 \n",
      " 5   HelpfulnessDenominator  568454 non-null  int64 \n",
      " 6   Score                   568454 non-null  int64 \n",
      " 7   Time                    568454 non-null  int64 \n",
      " 8   Summary                 568427 non-null  object\n",
      " 9   Text                    568454 non-null  object\n",
      "dtypes: int64(5), object(5)\n",
      "memory usage: 43.4+ MB\n"
     ]
    }
   ],
   "source": [
    "reviews = pd.read_csv(r\"Reviews.csv\")\n",
    "reviews.info()"
   ]
  },
  {
   "cell_type": "code",
   "execution_count": 6,
   "metadata": {},
   "outputs": [
    {
     "data": {
      "text/plain": [
       "(568454, 2)"
      ]
     },
     "execution_count": 6,
     "metadata": {},
     "output_type": "execute_result"
    }
   ],
   "source": [
    "reviews = reviews[['Text','Score']]\n",
    "reviews.shape"
   ]
  },
  {
   "cell_type": "code",
   "execution_count": 7,
   "metadata": {
    "id": "xokNn7qZqVAz"
   },
   "outputs": [
    {
     "data": {
      "text/plain": [
       "(568454, 2)"
      ]
     },
     "execution_count": 7,
     "metadata": {},
     "output_type": "execute_result"
    }
   ],
   "source": [
    "#get only 2 columns - Text, Score\n",
    "#drop the NAN values\n",
    "reviews = reviews.dropna(axis=0)\n",
    "reviews.shape"
   ]
  },
  {
   "cell_type": "code",
   "execution_count": 8,
   "metadata": {
    "id": "5GZt7pVkqVA4"
   },
   "outputs": [
    {
     "name": "stdout",
     "output_type": "stream",
     "text": [
      "(525814, 2)\n"
     ]
    },
    {
     "data": {
      "text/plain": [
       "1    443777\n",
       "0     82037\n",
       "Name: Score, dtype: int64"
      ]
     },
     "execution_count": 8,
     "metadata": {},
     "output_type": "execute_result"
    }
   ],
   "source": [
    "reviews = reviews[reviews['Score'] != 3]\n",
    "reviews['Score'] = [1 if i > 3 else 0 for i in reviews['Score']]\n",
    "print(reviews.shape)\n",
    "reviews['Score'].value_counts()"
   ]
  },
  {
   "cell_type": "code",
   "execution_count": 10,
   "metadata": {
    "id": "xYZ-UB9UqVA-"
   },
   "outputs": [],
   "source": [
    "def get_wordlen(x):\n",
    "    return len(x.split())\n",
    "reviews['len'] = reviews.Text.apply(get_wordlen)\n",
    "reviews = reviews[reviews.len<50]\n",
    "reviews = reviews.sample(n=100000, random_state=30)"
   ]
  },
  {
   "cell_type": "code",
   "execution_count": 11,
   "metadata": {
    "id": "CvldQriGqVBB"
   },
   "outputs": [],
   "source": [
    "#remove HTML from the Text column and save in the Text column only\n",
    "import re\n",
    "reviews['Text'] = [re.sub(r\"(<.*?>)\", '', i) for i in reviews['Text']]"
   ]
  },
  {
   "cell_type": "code",
   "execution_count": 12,
   "metadata": {
    "id": "AhfN1s2mqVBD"
   },
   "outputs": [
    {
     "data": {
      "text/html": [
       "<div>\n",
       "<style scoped>\n",
       "    .dataframe tbody tr th:only-of-type {\n",
       "        vertical-align: middle;\n",
       "    }\n",
       "\n",
       "    .dataframe tbody tr th {\n",
       "        vertical-align: top;\n",
       "    }\n",
       "\n",
       "    .dataframe thead th {\n",
       "        text-align: right;\n",
       "    }\n",
       "</style>\n",
       "<table border=\"1\" class=\"dataframe\">\n",
       "  <thead>\n",
       "    <tr style=\"text-align: right;\">\n",
       "      <th></th>\n",
       "      <th>Text</th>\n",
       "      <th>Score</th>\n",
       "      <th>len</th>\n",
       "    </tr>\n",
       "  </thead>\n",
       "  <tbody>\n",
       "    <tr>\n",
       "      <th>64117</th>\n",
       "      <td>The tea was of great quality and it tasted lik...</td>\n",
       "      <td>1</td>\n",
       "      <td>30</td>\n",
       "    </tr>\n",
       "    <tr>\n",
       "      <th>418112</th>\n",
       "      <td>My cat loves this.  The pellets are nice and s...</td>\n",
       "      <td>1</td>\n",
       "      <td>31</td>\n",
       "    </tr>\n",
       "    <tr>\n",
       "      <th>357829</th>\n",
       "      <td>Great product. Does not completely get rid of ...</td>\n",
       "      <td>1</td>\n",
       "      <td>41</td>\n",
       "    </tr>\n",
       "    <tr>\n",
       "      <th>175872</th>\n",
       "      <td>This gum is my favorite!  I would advise every...</td>\n",
       "      <td>1</td>\n",
       "      <td>27</td>\n",
       "    </tr>\n",
       "    <tr>\n",
       "      <th>178716</th>\n",
       "      <td>I also found out about this product because of...</td>\n",
       "      <td>1</td>\n",
       "      <td>22</td>\n",
       "    </tr>\n",
       "  </tbody>\n",
       "</table>\n",
       "</div>"
      ],
      "text/plain": [
       "                                                     Text  Score  len\n",
       "64117   The tea was of great quality and it tasted lik...      1   30\n",
       "418112  My cat loves this.  The pellets are nice and s...      1   31\n",
       "357829  Great product. Does not completely get rid of ...      1   41\n",
       "175872  This gum is my favorite!  I would advise every...      1   27\n",
       "178716  I also found out about this product because of...      1   22"
      ]
     },
     "execution_count": 12,
     "metadata": {},
     "output_type": "execute_result"
    }
   ],
   "source": [
    "reviews.head(5)"
   ]
  },
  {
   "cell_type": "code",
   "execution_count": 13,
   "metadata": {
    "id": "NsYDd3okqVBF"
   },
   "outputs": [],
   "source": [
    "#split the data into train and test data(20%) with Stratify sampling,\n",
    "from sklearn.model_selection import train_test_split\n",
    "X_train, X_test, y_train, y_test = train_test_split(reviews.drop('Score',axis=1), reviews['Score'],\n",
    "                                                    test_size=0.33, random_state=33,stratify=reviews['Score'])"
   ]
  },
  {
   "cell_type": "code",
   "execution_count": 14,
   "metadata": {
    "id": "-Q6OAcrOqVBI"
   },
   "outputs": [
    {
     "data": {
      "image/png": "[encoded data removed]",
      "text/plain": [
       "<Figure size 432x288 with 1 Axes>"
      ]
     },
     "metadata": {
      "needs_background": "light"
     },
     "output_type": "display_data"
    }
   ],
   "source": [
    "import matplotlib\n",
    "import matplotlib.pyplot as plt\n",
    "%matplotlib inline\n",
    "plt.bar(y_train.value_counts().index,y_train.value_counts().values)\n",
    "plt.show()"
   ]
  },
  {
   "cell_type": "code",
   "execution_count": 15,
   "metadata": {},
   "outputs": [
    {
     "data": {
      "image/png": "[encoded data removed]",
      "text/plain": [
       "<Figure size 432x288 with 1 Axes>"
      ]
     },
     "metadata": {
      "needs_background": "light"
     },
     "output_type": "display_data"
    }
   ],
   "source": [
    "plt.bar(y_test.value_counts().index,y_test.value_counts().values)\n",
    "plt.show()"
   ]
  },
  {
   "cell_type": "code",
   "execution_count": 16,
   "metadata": {
    "id": "Up-z5boWqVBK"
   },
   "outputs": [],
   "source": [
    "#saving to disk. if we need, we can load preprocessed data directly. \n",
    "reviews.to_csv('preprocessed.csv', index=False)"
   ]
  },
  {
   "cell_type": "markdown",
   "metadata": {
    "id": "bBtqNGN9qVBM"
   },
   "source": [
    "<pre><font size=6>Creating BERT Model</font> "
   ]
  },
  {
   "cell_type": "code",
   "execution_count": 17,
   "metadata": {
    "id": "i8xd2HejqVBN"
   },
   "outputs": [],
   "source": [
    "tf.keras.backend.clear_session()\n",
    "\n",
    "max_seq_length = 55\n",
    "\n",
    "#this is input words\n",
    "input_word_ids = tf.keras.layers.Input(shape=(max_seq_length,), dtype=tf.int32, name=\"input_word_ids\")\n",
    "\n",
    "#mask vector\n",
    "input_mask = tf.keras.layers.Input(shape=(max_seq_length,), dtype=tf.int32, name=\"input_mask\")\n",
    "\n",
    "#segment vectors\n",
    "segment_ids = tf.keras.layers.Input(shape=(max_seq_length,), dtype=tf.int32, name=\"segment_ids\")\n",
    "\n",
    "#bert layer \n",
    "bert_layer = hub.KerasLayer(\"https://tfhub.dev/tensorflow/bert_en_uncased_L-12_H-768_A-12/1\", trainable=False)\n",
    "pooled_output, sequence_output = bert_layer([input_word_ids, input_mask, segment_ids])\n",
    "\n",
    "#Bert model\n",
    "bert_model = Model(inputs=[input_word_ids, input_mask, segment_ids], outputs=pooled_output)"
   ]
  },
  {
   "cell_type": "code",
   "execution_count": 18,
   "metadata": {
    "id": "lQJsjg6fqVBQ"
   },
   "outputs": [
    {
     "name": "stdout",
     "output_type": "stream",
     "text": [
      "Model: \"model\"\n",
      "__________________________________________________________________________________________________\n",
      " Layer (type)                   Output Shape         Param #     Connected to                     \n",
      "==================================================================================================\n",
      " input_word_ids (InputLayer)    [(None, 55)]         0           []                               \n",
      "                                                                                                  \n",
      " input_mask (InputLayer)        [(None, 55)]         0           []                               \n",
      "                                                                                                  \n",
      " segment_ids (InputLayer)       [(None, 55)]         0           []                               \n",
      "                                                                                                  \n",
      " keras_layer (KerasLayer)       [(None, 768),        109482241   ['input_word_ids[0][0]',         \n",
      "                                 (None, 55, 768)]                 'input_mask[0][0]',             \n",
      "                                                                  'segment_ids[0][0]']            \n",
      "                                                                                                  \n",
      "==================================================================================================\n",
      "Total params: 109,482,241\n",
      "Trainable params: 0\n",
      "Non-trainable params: 109,482,241\n",
      "__________________________________________________________________________________________________\n"
     ]
    }
   ],
   "source": [
    "bert_model.summary()"
   ]
  },
  {
   "cell_type": "code",
   "execution_count": 19,
   "metadata": {
    "id": "w3z0OMA5qVBS"
   },
   "outputs": [
    {
     "data": {
      "text/plain": [
       "<KerasTensor: shape=(None, 768) dtype=float32 (created by layer 'keras_layer')>"
      ]
     },
     "execution_count": 19,
     "metadata": {},
     "output_type": "execute_result"
    }
   ],
   "source": [
    "bert_model.output"
   ]
  },
  {
   "cell_type": "markdown",
   "metadata": {
    "id": "Ewv4hFCsqVBU"
   },
   "source": [
    "<pre><font size=6>Tokenization</font></pre>"
   ]
  },
  {
   "cell_type": "code",
   "execution_count": 20,
   "metadata": {
    "id": "tX3VEFjiqVBU"
   },
   "outputs": [],
   "source": [
    "vocab_file = bert_layer.resolved_object.vocab_file.asset_path.numpy()\n",
    "do_lower_case = bert_layer.resolved_object.do_lower_case.numpy()"
   ]
  },
  {
   "cell_type": "code",
   "execution_count": 21,
   "metadata": {
    "id": "Y_iPwa99qVBW"
   },
   "outputs": [],
   "source": [
    "import tokenization"
   ]
  },
  {
   "cell_type": "code",
   "execution_count": 23,
   "metadata": {
    "id": "qlGFtp2xxzt6"
   },
   "outputs": [],
   "source": [
    "tokenizer=tokenization.FullTokenizer(vocab_file,do_lower_case )"
   ]
  },
  {
   "cell_type": "code",
   "execution_count": 26,
   "metadata": {},
   "outputs": [
    {
     "name": "stdout",
     "output_type": "stream",
     "text": [
      "['lava' '##zza' 'coffee' 'is' 'the' 'best' 'coffee' 'ever' ',' 'we' 'love'\n",
      " 'it' ',' 'every' 'pot' 'brew' '##s' 'up' 'so' 'smooth' 'even' 'when'\n",
      " 'brew' '##ed' 'very' 'strong' '.']\n"
     ]
    }
   ],
   "source": [
    "X_train_tokens = np.array([np.array(tokenizer.tokenize(i)) for i in X_train.Text],dtype='object')\n",
    "X_test_tokens = np.array([np.array(tokenizer.tokenize(i)) for i in X_test.Text],dtype='object')\n",
    "print(X_train_tokens[0])"
   ]
  },
  {
   "cell_type": "code",
   "execution_count": 27,
   "metadata": {},
   "outputs": [
    {
     "name": "stdout",
     "output_type": "stream",
     "text": [
      "['[CLS]' 'lava' '##zza' 'coffee' 'is' 'the' 'best' 'coffee' 'ever' ','\n",
      " 'we' 'love' 'it' ',' 'every' 'pot' 'brew' '##s' 'up' 'so' 'smooth' 'even'\n",
      " 'when' 'brew' '##ed' 'very' 'strong' '.' '[SEP]']\n"
     ]
    }
   ],
   "source": [
    "X_train_tokens = np.array([np.array(['[CLS]',*(i[0:max_seq_length-2]),'[SEP]']) for i in X_train_tokens],dtype='object')\n",
    "X_test_tokens = np.array([np.array(['[CLS]',*(i[0:max_seq_length-2]),'[SEP]']) for i in X_test_tokens],dtype='object')\n",
    "print(X_train_tokens[0])"
   ]
  },
  {
   "cell_type": "code",
   "execution_count": 28,
   "metadata": {},
   "outputs": [
    {
     "data": {
      "text/plain": [
       "array(['[CLS]', 'lava', '##zza', 'coffee', 'is', 'the', 'best', 'coffee',\n",
       "       'ever', ',', 'we', 'love', 'it', ',', 'every', 'pot', 'brew',\n",
       "       '##s', 'up', 'so', 'smooth', 'even', 'when', 'brew', '##ed',\n",
       "       'very', 'strong', '.', '[SEP]', '[PAD]', '[PAD]', '[PAD]', '[PAD]',\n",
       "       '[PAD]', '[PAD]', '[PAD]', '[PAD]', '[PAD]', '[PAD]', '[PAD]',\n",
       "       '[PAD]', '[PAD]', '[PAD]', '[PAD]', '[PAD]', '[PAD]', '[PAD]',\n",
       "       '[PAD]', '[PAD]', '[PAD]', '[PAD]', '[PAD]', '[PAD]', '[PAD]',\n",
       "       '[PAD]'], dtype='<U6')"
      ]
     },
     "execution_count": 28,
     "metadata": {},
     "output_type": "execute_result"
    }
   ],
   "source": [
    "np.concatenate((X_train_tokens[0], np.array(['[PAD]']*(max_seq_length - len(X_train_tokens[0])))), axis=None)"
   ]
  },
  {
   "cell_type": "code",
   "execution_count": 29,
   "metadata": {},
   "outputs": [
    {
     "data": {
      "text/plain": [
       "array(['[CLS]', 'lava', '##zza', 'coffee', 'is', 'the', 'best', 'coffee',\n",
       "       'ever', ',', 'we', 'love', 'it', ',', 'every', 'pot', 'brew',\n",
       "       '##s', 'up', 'so', 'smooth', 'even', 'when', 'brew', '##ed',\n",
       "       'very', 'strong', '.', '[SEP]'], dtype='<U6')"
      ]
     },
     "execution_count": 29,
     "metadata": {},
     "output_type": "execute_result"
    }
   ],
   "source": [
    "X_train_tokens[0]"
   ]
  },
  {
   "cell_type": "code",
   "execution_count": 30,
   "metadata": {},
   "outputs": [
    {
     "name": "stdout",
     "output_type": "stream",
     "text": [
      "['[CLS]' 'lava' '##zza' 'coffee' 'is' 'the' 'best' 'coffee' 'ever' ','\n",
      " 'we' 'love' 'it' ',' 'every' 'pot' 'brew' '##s' 'up' 'so' 'smooth' 'even'\n",
      " 'when' 'brew' '##ed' 'very' 'strong' '.' '[SEP]' '[PAD]' '[PAD]' '[PAD]'\n",
      " '[PAD]' '[PAD]' '[PAD]' '[PAD]' '[PAD]' '[PAD]' '[PAD]' '[PAD]' '[PAD]'\n",
      " '[PAD]' '[PAD]' '[PAD]' '[PAD]' '[PAD]' '[PAD]' '[PAD]' '[PAD]' '[PAD]'\n",
      " '[PAD]' '[PAD]' '[PAD]' '[PAD]' '[PAD]']\n"
     ]
    }
   ],
   "source": [
    "tr_tok = []\n",
    "for l in X_train_tokens:\n",
    "    if len(l) < max_seq_length:\n",
    "        tr_tok.append(np.concatenate((l, np.array(['[PAD]']*(max_seq_length - len(l)))), axis=None))\n",
    "    else:\n",
    "        tr_tok.append(l)\n",
    "te_tok = []\n",
    "for l in X_test_tokens:\n",
    "    if len(l) < max_seq_length:\n",
    "        te_tok.append(np.concatenate((l, np.array(['[PAD]']*(max_seq_length - len(l)))), axis=None))\n",
    "    else:\n",
    "        te_tok.append(l)\n",
    "X_train_tokens = np.array(tr_tok,dtype='object')\n",
    "X_test_tokens = np.array(te_tok,dtype='object')\n",
    "print(X_train_tokens[0])"
   ]
  },
  {
   "cell_type": "code",
   "execution_count": 31,
   "metadata": {},
   "outputs": [
    {
     "name": "stdout",
     "output_type": "stream",
     "text": [
      "[1 1 1 1 1 1 1 1 1 1 1 1 1 1 1 1 1 1 1 1 1 1 1 1 1 1 1 1 1 0 0 0 0 0 0 0 0\n",
      " 0 0 0 0 0 0 0 0 0 0 0 0 0 0 0 0 0 0]\n"
     ]
    }
   ],
   "source": [
    "X_train_mask = []\n",
    "for s in X_train_tokens:\n",
    "    X_train_mask.append([0 if i == '[PAD]' else 1 for i in s])\n",
    "X_test_mask = []\n",
    "for s in X_test_tokens:\n",
    "    X_test_mask.append([0 if i == '[PAD]' else 1 for i in s])\n",
    "    \n",
    "X_train_mask = np.array(X_train_mask)\n",
    "X_test_mask = np.array(X_test_mask)\n",
    "print(X_train_mask[0])"
   ]
  },
  {
   "cell_type": "code",
   "execution_count": 32,
   "metadata": {},
   "outputs": [
    {
     "name": "stdout",
     "output_type": "stream",
     "text": [
      "[0 0 0 0 0 0 0 0 0 0 0 0 0 0 0 0 0 0 0 0 0 0 0 0 0 0 0 0 0 0 0 0 0 0 0 0 0\n",
      " 0 0 0 0 0 0 0 0 0 0 0 0 0 0 0 0 0 0]\n"
     ]
    }
   ],
   "source": [
    "X_train_segment = np.array([np.array([0]*max_seq_length) for i in X_train_tokens],dtype='object')\n",
    "X_test_segment = np.array([np.array([0]*max_seq_length) for i in X_test_tokens],dtype='object')\n",
    "print(X_train_segment[0])"
   ]
  },
  {
   "cell_type": "code",
   "execution_count": 33,
   "metadata": {},
   "outputs": [
    {
     "name": "stdout",
     "output_type": "stream",
     "text": [
      "[101 13697 20715 4157 2003 1996 2190 4157 2412 1010 2057 2293 2009 1010\n",
      " 2296 8962 24702 2015 2039 2061 5744 2130 2043 24702 2098 2200 2844 1012\n",
      " 102 0 0 0 0 0 0 0 0 0 0 0 0 0 0 0 0 0 0 0 0 0 0 0 0 0 0]\n"
     ]
    }
   ],
   "source": [
    "X_train_tokens = np.array([np.array(tokenizer.convert_tokens_to_ids(i)) for i in X_train_tokens],dtype='object')\n",
    "X_test_tokens = np.array([np.array(tokenizer.convert_tokens_to_ids(i)) for i in X_test_tokens],dtype='object')\n",
    "print(X_train_tokens[0])"
   ]
  },
  {
   "cell_type": "code",
   "execution_count": 34,
   "metadata": {
    "id": "xF0idMRDqVBm"
   },
   "outputs": [],
   "source": [
    "pickle.dump((X_train, X_train_tokens, X_train_mask, X_train_segment, y_train),open('train_data.pkl','wb'))\n",
    "pickle.dump((X_test, X_test_tokens, X_test_mask, X_test_segment, y_test),open('test_data.pkl','wb'))"
   ]
  },
  {
   "cell_type": "code",
   "execution_count": 4,
   "metadata": {
    "id": "Leu1URGzqVBo"
   },
   "outputs": [],
   "source": [
    "#max_seq_length = 55\n",
    "#X_train, X_train_tokens, X_train_mask, X_train_segment, y_train = pickle.load(open(\"train_data.pkl\", 'rb')) \n",
    "#X_test, X_test_tokens, X_test_mask, X_test_segment, y_test = pickle.load(open(\"test_data.pkl\", 'rb')) "
   ]
  },
  {
   "cell_type": "markdown",
   "metadata": {
    "id": "SEj-Eua5qVBx"
   },
   "source": [
    "<pre><font size=6>Getting Embeddings from BERT Model</font>"
   ]
  },
  {
   "cell_type": "code",
   "execution_count": 37,
   "metadata": {
    "id": "QwOVgQFDqVBy"
   },
   "outputs": [
    {
     "data": {
      "text/plain": [
       "[<KerasTensor: shape=(None, 55) dtype=int32 (created by layer 'input_word_ids')>,\n",
       " <KerasTensor: shape=(None, 55) dtype=int32 (created by layer 'input_mask')>,\n",
       " <KerasTensor: shape=(None, 55) dtype=int32 (created by layer 'segment_ids')>]"
      ]
     },
     "execution_count": 37,
     "metadata": {},
     "output_type": "execute_result"
    }
   ],
   "source": [
    "bert_model.input"
   ]
  },
  {
   "cell_type": "code",
   "execution_count": 38,
   "metadata": {
    "id": "ZcpkQq1OqVB0"
   },
   "outputs": [
    {
     "data": {
      "text/plain": [
       "<KerasTensor: shape=(None, 768) dtype=float32 (created by layer 'keras_layer')>"
      ]
     },
     "execution_count": 38,
     "metadata": {},
     "output_type": "execute_result"
    }
   ],
   "source": [
    "bert_model.output"
   ]
  },
  {
   "cell_type": "code",
   "execution_count": 39,
   "metadata": {
    "id": "IxdIlOIBlm7j"
   },
   "outputs": [],
   "source": [
    "X_train_pooled_output=bert_model.predict([X_train_tokens.astype('float32'),X_train_mask.astype('float32'),X_train_segment.astype('float32')])"
   ]
  },
  {
   "cell_type": "code",
   "execution_count": 40,
   "metadata": {
    "id": "yZT11BCol4gL"
   },
   "outputs": [],
   "source": [
    "X_test_pooled_output=bert_model.predict([X_test_tokens.astype('float32'),X_test_mask.astype('float32'),X_test_segment.astype('float32')])"
   ]
  },
  {
   "cell_type": "code",
   "execution_count": 41,
   "metadata": {
    "id": "DL6JVojfqVB8"
   },
   "outputs": [],
   "source": [
    "pickle.dump((X_train_pooled_output, X_test_pooled_output),open('final_output.pkl','wb'))"
   ]
  },
  {
   "cell_type": "code",
   "execution_count": 5,
   "metadata": {
    "id": "oSQcBdROqVB9"
   },
   "outputs": [],
   "source": [
    "#X_train_pooled_output, X_test_pooled_output= pickle.load(open('final_output.pkl', 'rb'))"
   ]
  },
  {
   "cell_type": "markdown",
   "metadata": {
    "id": "oYwS1QbAqVCD"
   },
   "source": [
    "<pre><font size=6>Training a NN with 768 features</font>"
   ]
  },
  {
   "cell_type": "code",
   "execution_count": 43,
   "metadata": {
    "id": "od8PQlYRqVCE"
   },
   "outputs": [],
   "source": [
    "##imports\n",
    "from tensorflow import keras\n",
    "from tensorflow.keras import layers\n",
    "from tensorflow.keras.models import Model\n",
    "from sklearn.metrics import roc_auc_score\n",
    "\n",
    "def rocscore(y_true, y_pred):\n",
    "    try:\n",
    "        score = roc_auc_score(y_true, y_pred)\n",
    "        rocscore.prev_score = score\n",
    "    except:\n",
    "        score = rocscore.prev_score\n",
    "    return score\n",
    "rocscore.prev_score = 0      \n",
    "\n",
    "def auroc(y_true, y_pred):\n",
    "    return tf.py_function(rocscore, (y_true, y_pred), tf.double)"
   ]
  },
  {
   "cell_type": "code",
   "execution_count": 44,
   "metadata": {
    "id": "DSnmX3WnqVCG"
   },
   "outputs": [],
   "source": [
    "inputs = layers.Input(shape=(X_train_pooled_output.shape[1],))\n",
    "\n",
    "dense = layers.Dense(100,activation=\"elu\",kernel_initializer='he_normal')(inputs)\n",
    "\n",
    "dense2 = layers.Dense(75,activation=\"elu\",kernel_initializer='he_normal')(dense)\n",
    "\n",
    "dropout2 = layers.Dropout(0.3)(dense2)\n",
    "\n",
    "dense3 = layers.Dense(64,activation=\"elu\",kernel_initializer='he_normal')(dropout2)\n",
    "\n",
    "bn =layers.BatchNormalization()(dense3)\n",
    "\n",
    "dense4 = layers.Dense(8,activation=\"relu\",kernel_initializer='he_normal')(bn)\n",
    "\n",
    "classification_output = layers.Dense(1,activation=\"sigmoid\")(dense4)\n",
    "\n",
    "model1 = keras.Model(inputs=inputs, outputs=classification_output, name=\"Model1\")"
   ]
  },
  {
   "cell_type": "code",
   "execution_count": 45,
   "metadata": {},
   "outputs": [
    {
     "data": {
      "image/png": "[encoded data removed]",
      "text/plain": [
       "<IPython.core.display.Image object>"
      ]
     },
     "execution_count": 45,
     "metadata": {},
     "output_type": "execute_result"
    }
   ],
   "source": [
    "keras.utils.plot_model(model1, to_file='model1.png', show_shapes=True)"
   ]
  },
  {
   "cell_type": "code",
   "execution_count": 46,
   "metadata": {},
   "outputs": [
    {
     "name": "stdout",
     "output_type": "stream",
     "text": [
      "Model: \"Model1\"\n",
      "_________________________________________________________________\n",
      " Layer (type)                Output Shape              Param #   \n",
      "=================================================================\n",
      " input_1 (InputLayer)        [(None, 768)]             0         \n",
      "                                                                 \n",
      " dense (Dense)               (None, 100)               76900     \n",
      "                                                                 \n",
      " dense_1 (Dense)             (None, 75)                7575      \n",
      "                                                                 \n",
      " dropout (Dropout)           (None, 75)                0         \n",
      "                                                                 \n",
      " dense_2 (Dense)             (None, 64)                4864      \n",
      "                                                                 \n",
      " batch_normalization (BatchN  (None, 64)               256       \n",
      " ormalization)                                                   \n",
      "                                                                 \n",
      " dense_3 (Dense)             (None, 8)                 520       \n",
      "                                                                 \n",
      " dense_4 (Dense)             (None, 1)                 9         \n",
      "                                                                 \n",
      "=================================================================\n",
      "Total params: 90,124\n",
      "Trainable params: 89,996\n",
      "Non-trainable params: 128\n",
      "_________________________________________________________________\n"
     ]
    }
   ],
   "source": [
    "model1.summary()"
   ]
  },
  {
   "cell_type": "code",
   "execution_count": 47,
   "metadata": {},
   "outputs": [],
   "source": [
    "import datetime\n",
    "log_dir = \"logs/fit/\" + datetime.datetime.now().strftime(\"%Y%m%d-%H%M%S\")\n",
    "tensorboard_callback = tf.keras.callbacks.TensorBoard(log_dir=log_dir, histogram_freq=1)"
   ]
  },
  {
   "cell_type": "code",
   "execution_count": 48,
   "metadata": {},
   "outputs": [],
   "source": [
    "model1.compile(loss= \"binary_crossentropy\",\n",
    "               optimizer=keras.optimizers.Adam(),\n",
    "               metrics=[auroc])"
   ]
  },
  {
   "cell_type": "code",
   "execution_count": 49,
   "metadata": {},
   "outputs": [],
   "source": [
    "from tensorflow.keras.callbacks import ModelCheckpoint\n",
    "filepath = 'my_best_model.epoch{epoch:02d}-auroc{val_auroc:.2f}.hdf5'\n",
    "checkpoint = ModelCheckpoint(filepath=filepath, \n",
    "                             monitor='val_auroc',\n",
    "                             verbose=1, \n",
    "                             save_best_only=True,\n",
    "                             mode='max')"
   ]
  },
  {
   "cell_type": "code",
   "execution_count": 50,
   "metadata": {
    "scrolled": false
   },
   "outputs": [
    {
     "name": "stdout",
     "output_type": "stream",
     "text": [
      "Epoch 1/15\n",
      "523/524 [============================>.] - ETA: 0s - loss: 0.2702 - auroc: 0.8606\n",
      "Epoch 00001: val_auroc improved from -inf to 0.94753, saving model to my_best_model.epoch01-auroc0.95.hdf5\n",
      "524/524 [==============================] - 5s 8ms/step - loss: 0.2701 - auroc: 0.8607 - val_loss: 0.2265 - val_auroc: 0.9475\n",
      "Epoch 2/15\n",
      "519/524 [============================>.] - ETA: 0s - loss: 0.1901 - auroc: 0.9447\n",
      "Epoch 00002: val_auroc improved from 0.94753 to 0.95153, saving model to my_best_model.epoch02-auroc0.95.hdf5\n",
      "524/524 [==============================] - 4s 7ms/step - loss: 0.1903 - auroc: 0.9448 - val_loss: 0.1819 - val_auroc: 0.9515\n",
      "Epoch 3/15\n",
      "518/524 [============================>.] - ETA: 0s - loss: 0.1818 - auroc: 0.9500\n",
      "Epoch 00003: val_auroc did not improve from 0.95153\n",
      "524/524 [==============================] - 3s 7ms/step - loss: 0.1819 - auroc: 0.9501 - val_loss: 0.3453 - val_auroc: 0.9499\n",
      "Epoch 4/15\n",
      "524/524 [==============================] - ETA: 0s - loss: 0.1782 - auroc: 0.9529\n",
      "Epoch 00004: val_auroc improved from 0.95153 to 0.95303, saving model to my_best_model.epoch04-auroc0.95.hdf5\n",
      "524/524 [==============================] - 4s 7ms/step - loss: 0.1782 - auroc: 0.9529 - val_loss: 0.2404 - val_auroc: 0.9530\n",
      "Epoch 5/15\n",
      "521/524 [============================>.] - ETA: 0s - loss: 0.1760 - auroc: 0.9539\n",
      "Epoch 00005: val_auroc did not improve from 0.95303\n",
      "524/524 [==============================] - 4s 7ms/step - loss: 0.1761 - auroc: 0.9539 - val_loss: 0.3032 - val_auroc: 0.9445\n",
      "Epoch 6/15\n",
      "516/524 [============================>.] - ETA: 0s - loss: 0.1729 - auroc: 0.9552\n",
      "Epoch 00006: val_auroc improved from 0.95303 to 0.95368, saving model to my_best_model.epoch06-auroc0.95.hdf5\n",
      "524/524 [==============================] - 4s 7ms/step - loss: 0.1727 - auroc: 0.9555 - val_loss: 0.1852 - val_auroc: 0.9537\n",
      "Epoch 7/15\n",
      "513/524 [============================>.] - ETA: 0s - loss: 0.1673 - auroc: 0.9580\n",
      "Epoch 00007: val_auroc did not improve from 0.95368\n",
      "524/524 [==============================] - 4s 7ms/step - loss: 0.1674 - auroc: 0.9579 - val_loss: 0.3722 - val_auroc: 0.9395\n",
      "Epoch 8/15\n",
      "523/524 [============================>.] - ETA: 0s - loss: 0.1674 - auroc: 0.9584\n",
      "Epoch 00008: val_auroc improved from 0.95368 to 0.95687, saving model to my_best_model.epoch08-auroc0.96.hdf5\n",
      "524/524 [==============================] - 4s 7ms/step - loss: 0.1674 - auroc: 0.9584 - val_loss: 0.1720 - val_auroc: 0.9569\n",
      "Epoch 9/15\n",
      "522/524 [============================>.] - ETA: 0s - loss: 0.1651 - auroc: 0.9599-\n",
      "Epoch 00009: val_auroc did not improve from 0.95687\n",
      "524/524 [==============================] - 4s 7ms/step - loss: 0.1652 - auroc: 0.9599 - val_loss: 0.8403 - val_auroc: 0.9393\n",
      "Epoch 10/15\n",
      "515/524 [============================>.] - ETA: 0s - loss: 0.1644 - auroc: 0.9601\n",
      "Epoch 00010: val_auroc did not improve from 0.95687\n",
      "524/524 [==============================] - 4s 7ms/step - loss: 0.1643 - auroc: 0.9602 - val_loss: 0.1824 - val_auroc: 0.9540\n",
      "Epoch 11/15\n",
      "520/524 [============================>.] - ETA: 0s - loss: 0.1645 - auroc: 0.9603\n",
      "Epoch 00011: val_auroc did not improve from 0.95687\n",
      "524/524 [==============================] - 4s 7ms/step - loss: 0.1645 - auroc: 0.9602 - val_loss: 1.0490 - val_auroc: 0.9441\n",
      "Epoch 12/15\n",
      "520/524 [============================>.] - ETA: 0s - loss: 0.1625 - auroc: 0.9609\n",
      "Epoch 00012: val_auroc did not improve from 0.95687\n",
      "524/524 [==============================] - 4s 7ms/step - loss: 0.1626 - auroc: 0.9608 - val_loss: 0.1696 - val_auroc: 0.9563\n",
      "Epoch 13/15\n",
      "524/524 [==============================] - ETA: 0s - loss: 0.1630 - auroc: 0.9609\n",
      "Epoch 00013: val_auroc improved from 0.95687 to 0.95944, saving model to my_best_model.epoch13-auroc0.96.hdf5\n",
      "524/524 [==============================] - 4s 8ms/step - loss: 0.1630 - auroc: 0.9609 - val_loss: 0.1764 - val_auroc: 0.9594\n",
      "Epoch 14/15\n",
      "522/524 [============================>.] - ETA: 0s - loss: 0.1605 - auroc: 0.9625\n",
      "Epoch 00014: val_auroc did not improve from 0.95944\n",
      "524/524 [==============================] - 4s 7ms/step - loss: 0.1604 - auroc: 0.9626 - val_loss: 0.2066 - val_auroc: 0.9540\n",
      "Epoch 15/15\n",
      "524/524 [==============================] - ETA: 0s - loss: 0.1597 - auroc: 0.9628\n",
      "Epoch 00015: val_auroc did not improve from 0.95944\n",
      "524/524 [==============================] - 4s 7ms/step - loss: 0.1597 - auroc: 0.9628 - val_loss: 0.5266 - val_auroc: 0.9522\n"
     ]
    },
    {
     "data": {
      "text/plain": [
       "<keras.callbacks.History at 0x212c5423c40>"
      ]
     },
     "execution_count": 50,
     "metadata": {},
     "output_type": "execute_result"
    }
   ],
   "source": [
    "model1.fit(X_train_pooled_output,\n",
    "           y_train,\n",
    "           epochs=15,\n",
    "           batch_size = 128,\n",
    "           validation_data=(X_test_pooled_output, y_test),\n",
    "           callbacks=[checkpoint,tensorboard_callback],\n",
    "           verbose=1)"
   ]
  },
  {
   "cell_type": "markdown",
   "metadata": {
    "id": "kcILeYZI9pxm"
   },
   "source": [
    "<Pre><font size=6>Creating a Data pipeline for BERT Model</font> "
   ]
  },
  {
   "cell_type": "code",
   "execution_count": 52,
   "metadata": {
    "id": "lQcoHbUKjgvF"
   },
   "outputs": [],
   "source": [
    "test_df= pd.read_csv('test.csv')"
   ]
  },
  {
   "cell_type": "code",
   "execution_count": 61,
   "metadata": {},
   "outputs": [],
   "source": [
    "from keras.models import load_model\n",
    "best_model = load_model('my_best_model.epoch13-auroc0.96.hdf5', custom_objects={\"auroc\": auroc})"
   ]
  },
  {
   "cell_type": "code",
   "execution_count": 74,
   "metadata": {
    "id": "g9g6C_kgjcan"
   },
   "outputs": [],
   "source": [
    "def SentimentPredictor(X_test,model=best_model):\n",
    "    #Processing Tokens\n",
    "    X_test_tokens = np.array([np.array(tokenizer.tokenize(i)) for i in X_test.Text],dtype='object')\n",
    "    X_test_tokens = np.array([np.array(['[CLS]',*(i[0:max_seq_length-2]),'[SEP]']) for i in X_test_tokens],dtype='object')\n",
    "    te_tok = []\n",
    "    for l in X_test_tokens:\n",
    "        if len(l) < max_seq_length:\n",
    "            te_tok.append(np.concatenate((l, np.array(['[PAD]']*(max_seq_length - len(l)))), axis=None))\n",
    "        else:\n",
    "            te_tok.append(l)\n",
    "    X_test_tokens = np.array(te_tok,dtype='object')\n",
    "    \n",
    "    #Processing Mask\n",
    "    X_test_mask = []\n",
    "    for s in X_test_tokens:\n",
    "        X_test_mask.append([0 if i == '[PAD]' else 1 for i in s])\n",
    "    X_test_mask = np.array(X_test_mask)\n",
    "    \n",
    "    #Processing Segment\n",
    "    X_test_segment = np.array([np.array([0]*max_seq_length) for i in X_test_tokens],dtype='object')\n",
    "    \n",
    "    #Converting Tokens to ids\n",
    "    X_test_tokens = np.array([np.array(tokenizer.convert_tokens_to_ids(i)) for i in X_test_tokens],dtype='object')\n",
    "    \n",
    "    #Embeddings from BERT model\n",
    "    X_test_pooled_output=bert_model.predict([X_test_tokens.astype('float32'),X_test_mask.astype('float32'),X_test_segment.astype('float32')])\n",
    "    print(\"Shape of X_test after BERT Embedings : \",X_test_pooled_output.shape)\n",
    "    \n",
    "    \n",
    "    y_pred = model.predict(X_test_pooled_output,use_multiprocessing=True)\n",
    "    preds = [0 if i <0.5 else 1 for i in ypred]\n",
    "    print('Total Given Reviews :',len(preds))\n",
    "    print('Positive Reviews(1) :',sum(preds))\n",
    "    print('Negative Reviews(0) :',len(preds) - sum(preds))"
   ]
  },
  {
   "cell_type": "code",
   "execution_count": 75,
   "metadata": {},
   "outputs": [
    {
     "name": "stdout",
     "output_type": "stream",
     "text": [
      "Shape of X_test after BERT Embedings :  (352, 768)\n",
      "Total Given Reviews : 352\n",
      "Positive Reviews(1) : 314\n",
      "Negative Reviews(0) : 38\n"
     ]
    }
   ],
   "source": [
    "SentimentPredictor(test_df)"
   ]
  },
  {
   "cell_type": "markdown",
   "metadata": {
    "id": "pZc7XTQOxcIO"
   },
   "source": [
    "## Observations"
   ]
  },
  {
   "cell_type": "markdown",
   "metadata": {
    "id": "WQfm5vO1xoVR"
   },
   "source": [
    "## Preprocessing :\n",
    "<p>Given data was very clean to start with, so pre processing was minimal. There werent any null/Nan values, Html tags were removed from the text and the reviews were devided into positive ones or negative ones based on Score.</p>\n",
    "<p>Data was very imbalanced and was split into trian and test sets using stratified sampling.</p>\n",
    "\n",
    "## Creating BERT model :\n",
    "<p>Loaded the PreTrained BERT model and the model required 3 imputs, the text tokens in a specified format and mask and segment arrays that provide additional infromation about the formating to the model</p>\n",
    "\n",
    "## Tokenizing :\n",
    "<p>a custom tokenizer was used to genrerate tokens and the mask and segment arrays were synthesized as per the BERT model requirements</p>\n",
    "\n",
    "## Embeddings from BERT model :\n",
    "<p>The 3 systhesized inputs were given to the pretrained BERT model to get the 784 dimensional Embeddings for each Sentence </p>\n",
    "\n",
    "## Training the Network :\n",
    "<p>A simple Network with only 6 hidden layers was trained using the Embeddings from BERT model as input, within just 13 epochs a good model was able to achived.</p>\n",
    "<ul><li>Activation Used : ELU (Model converged faster when ELU activation was used)</li>\n",
    "    <li>Optimizer Used : Adam</li>\n",
    "    <li>Loss : Binary Crossentropy</li>\n",
    "    <li>Metric Used : AUC score</li>\n",
    "    <li>Callbacks Used : Tensorboard and ModelCheckpoints</li>\n",
    "</ul>"
   ]
  }
 ],
 "metadata": {
  "colab": {
   "collapsed_sections": [],
   "name": " BERT- Assignment_modified.ipynb",
   "provenance": []
  },
  "kernelspec": {
   "display_name": "Python 3",
   "language": "python",
   "name": "python3"
  },
  "language_info": {
   "codemirror_mode": {
    "name": "ipython",
    "version": 3
   },
   "file_extension": ".py",
   "mimetype": "text/x-python",
   "name": "python",
   "nbconvert_exporter": "python",
   "pygments_lexer": "ipython3",
   "version": "3.8.5"
  }
 },
 "nbformat": 4,
 "nbformat_minor": 1
}
